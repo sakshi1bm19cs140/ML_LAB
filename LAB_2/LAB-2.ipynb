{
 "cells": [
  {
   "cell_type": "code",
   "execution_count": 3,
   "id": "7af95a87",
   "metadata": {},
   "outputs": [],
   "source": [
    "import numpy as np\n",
    "import pandas as pd"
   ]
  },
  {
   "cell_type": "code",
   "execution_count": 4,
   "id": "0f7ccf0b",
   "metadata": {},
   "outputs": [],
   "source": [
    "data = pd.DataFrame(data=pd.read_csv('ENJOYSPORT.csv'))"
   ]
  },
  {
   "cell_type": "code",
   "execution_count": 5,
   "id": "9d00ef09",
   "metadata": {},
   "outputs": [
    {
     "name": "stdout",
     "output_type": "stream",
     "text": [
      "[['Sunny' 'Warm' 'Normal' 'Strong' 'Warm' 'Same']\n",
      " ['Sunny' 'Warm' 'High' 'Strong' 'Warm' 'Same']\n",
      " ['Rainy' 'Cold' 'High' 'Strong' 'Warm' 'Change']\n",
      " ['Sunny' 'Warm' 'High' 'Strong' 'Cool' 'Change']]\n"
     ]
    }
   ],
   "source": [
    "concepts = np.array(data.iloc[:,0:-1])\n",
    "print(concepts) "
   ]
  },
  {
   "cell_type": "code",
   "execution_count": 6,
   "id": "31933fa9",
   "metadata": {},
   "outputs": [
    {
     "name": "stdout",
     "output_type": "stream",
     "text": [
      "[1 1 0 1]\n"
     ]
    }
   ],
   "source": [
    "target = np.array(data.iloc[:,-1]) \n",
    "print(target)"
   ]
  },
  {
   "cell_type": "code",
   "execution_count": 8,
   "id": "4316510a",
   "metadata": {},
   "outputs": [
    {
     "name": "stdout",
     "output_type": "stream",
     "text": [
      "initialization of specific_h and general_h\n",
      "['Sunny' 'Warm' 'Normal' 'Strong' 'Warm' 'Same']\n",
      "[['?', '?', '?', '?', '?', '?'], ['?', '?', '?', '?', '?', '?'], ['?', '?', '?', '?', '?', '?'], ['?', '?', '?', '?', '?', '?'], ['?', '?', '?', '?', '?', '?'], ['?', '?', '?', '?', '?', '?']]\n",
      "['Sunny' 'Warm' '?' 'Strong' 'Warm' 'Same']\n",
      " steps of Candidate Elimination Algorithm 3\n",
      "['Sunny' 'Warm' '?' 'Strong' 'Warm' 'Same']\n",
      "[['Sunny', '?', '?', '?', '?', '?'], ['?', 'Warm', '?', '?', '?', '?'], ['?', '?', '?', '?', '?', '?'], ['?', '?', '?', '?', '?', '?'], ['?', '?', '?', '?', '?', '?'], ['?', '?', '?', '?', '?', '?']]\n",
      " steps of Candidate Elimination Algorithm 3\n",
      "['Sunny' 'Warm' '?' 'Strong' 'Warm' 'Same']\n",
      "[['Sunny', '?', '?', '?', '?', '?'], ['?', 'Warm', '?', '?', '?', '?'], ['?', '?', '?', '?', '?', '?'], ['?', '?', '?', '?', '?', '?'], ['?', '?', '?', '?', '?', '?'], ['?', '?', '?', '?', '?', '?']]\n",
      "['Sunny' 'Warm' '?' 'Strong' 'Warm' 'Same']\n",
      "['Sunny' 'Warm' '?' 'Strong' '?' 'Same']\n",
      "['Sunny' 'Warm' '?' 'Strong' '?' '?']\n",
      "Final Specific_h:\n",
      "['Sunny' 'Warm' '?' 'Strong' '?' '?']\n",
      "Final General_h:\n",
      "[['Sunny', '?', '?', '?', '?', '?'], ['?', 'Warm', '?', '?', '?', '?'], ['?', '?', '?', '?', '?', '?']]\n"
     ]
    }
   ],
   "source": [
    "def learn(concepts, target): \n",
    " specific_h = concepts[0].copy() \n",
    " print(\"initialization of specific_h and general_h\") \n",
    " print(specific_h) \n",
    " general_h = [[\"?\" for i in range(len(specific_h))] for i in \n",
    " range(len(specific_h))] \n",
    " print(general_h) \n",
    " for i, h in enumerate(concepts): \n",
    "  if target[i] == 1: \n",
    "    for x in range(len(specific_h)):\n",
    "      if h[x]!= specific_h[x]: \n",
    "        specific_h[x] ='?' \n",
    "        general_h[x][x] ='?'\n",
    "        print(specific_h)\n",
    "        \n",
    "  if target[i] == 0: \n",
    "    for x in range(len(specific_h)): \n",
    "     if h[x]!= specific_h[x]: \n",
    "       general_h[x][x] = specific_h[x] \n",
    "     else: \n",
    "      general_h[x][x] = '?' \n",
    "      print(\" steps of Candidate Elimination Algorithm\",i+1) \n",
    "      print(specific_h) \n",
    "      print(general_h) \n",
    "    indices = [i for i, val in enumerate(general_h) if val == ['?', '?', '?', '?', '?', '?']] \n",
    " for i in indices: \n",
    "  general_h.remove(['?', '?', '?', '?', '?', '?']) \n",
    " return specific_h, general_h \n",
    "s_final, g_final = learn(concepts, target)\n",
    "print(\"Final Specific_h:\", s_final, sep=\"\\n\")\n",
    "print(\"Final General_h:\", g_final, sep=\"\\n\")"
   ]
  },
  {
   "cell_type": "code",
   "execution_count": null,
   "id": "1c7aff10",
   "metadata": {},
   "outputs": [],
   "source": []
  }
 ],
 "metadata": {
  "kernelspec": {
   "display_name": "Python 3 (ipykernel)",
   "language": "python",
   "name": "python3"
  },
  "language_info": {
   "codemirror_mode": {
    "name": "ipython",
    "version": 3
   },
   "file_extension": ".py",
   "mimetype": "text/x-python",
   "name": "python",
   "nbconvert_exporter": "python",
   "pygments_lexer": "ipython3",
   "version": "3.9.7"
  }
 },
 "nbformat": 4,
 "nbformat_minor": 5
}
